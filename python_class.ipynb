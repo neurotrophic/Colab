{
  "nbformat": 4,
  "nbformat_minor": 0,
  "metadata": {
    "colab": {
      "name": "python class.ipynb",
      "version": "0.3.2",
      "provenance": []
    },
    "kernelspec": {
      "name": "python3",
      "display_name": "Python 3"
    }
  },
  "cells": [
    {
      "cell_type": "markdown",
      "metadata": {
        "id": "view-in-github",
        "colab_type": "text"
      },
      "source": [
        "[View in Colaboratory](https://colab.research.google.com/github/neurotrophic/Machine-Learning-with-Colab-/blob/master/python_class.ipynb)"
      ]
    },
    {
      "metadata": {
        "id": "-VDorkmbVHyN",
        "colab_type": "code",
        "colab": {
          "base_uri": "https://localhost:8080/",
          "height": 50
        },
        "outputId": "f055b96c-b7ce-4a66-8bb6-06223b057988"
      },
      "cell_type": "code",
      "source": [
        "class Test:    \n",
        "  def __init__(self):  \n",
        "    self.a = 0\n",
        "    self.b = 1\n",
        "  def __call__(self,g):\n",
        "    return self.__dict__[g]\n",
        "        \n",
        "test = Test()\n",
        "\n",
        "print(test('a'))\n",
        "print(test('b'))\n"
      ],
      "execution_count": 1,
      "outputs": [
        {
          "output_type": "stream",
          "text": [
            "0\n",
            "1\n"
          ],
          "name": "stdout"
        }
      ]
    }
  ]
}