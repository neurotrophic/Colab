{
  "nbformat": 4,
  "nbformat_minor": 0,
  "metadata": {
    "colab": {
      "name": "cowboy magic.ipynb",
      "version": "0.3.2",
      "provenance": []
    },
    "kernelspec": {
      "name": "python3",
      "display_name": "Python 3"
    }
  },
  "cells": [
    {
      "cell_type": "markdown",
      "metadata": {
        "id": "view-in-github",
        "colab_type": "text"
      },
      "source": [
        "[View in Colaboratory](https://colab.research.google.com/github/neurotrophic/Colab/blob/master/cowboy_magic.ipynb)"
      ]
    },
    {
      "metadata": {
        "id": "Dlb1gz4dhGwY",
        "colab_type": "code",
        "colab": {}
      },
      "cell_type": "code",
      "source": [
        "import subprocess\n",
        "import IPython.core.magic as ipy\n",
        "from IPython import get_ipython\n",
        "\n",
        "# Usage %%Cowboy [g++, node, ...] [file.c, file.cpp, ...] [flags, ...]\n",
        "\n",
        "@ipy.magics_class\n",
        "class Cowboy(ipy.Magics):\n",
        "\n",
        "    @ipy.cell_magic\n",
        "    def Cowboy(self, line, cell):\n",
        "        options = line.split(\" \")\n",
        "\n",
        "        with open(options[1], 'w', encoding=\"utf-8\") as f:\n",
        "          f.write(cell)\n",
        "\n",
        "        process = subprocess.Popen(\n",
        "          options,\n",
        "          stdout=subprocess.PIPE,\n",
        "          stderr=subprocess.STDOUT\n",
        "        )\n",
        "\n",
        "        a,b = process.communicate()\n",
        "        print(a.decode(\"utf-8\"))\n",
        "\n",
        "get_ipython().register_magics(Cowboy)"
      ],
      "execution_count": 0,
      "outputs": []
    },
    {
      "metadata": {
        "id": "X_iNRPgfuPkt",
        "colab_type": "code",
        "colab": {
          "base_uri": "https://localhost:8080/",
          "height": 50
        },
        "outputId": "3eaac692-0cb9-42ce-b03c-dac477d1b368"
      },
      "cell_type": "code",
      "source": [
        "%%Cowboy python test.py\n",
        "\n",
        "class Rectangle():\n",
        "  def __init__(self):\n",
        "    self.width = 0.\n",
        "    self.height = 0.\n",
        "  def set_values(self,x,y):\n",
        "    self.width = x\n",
        "    self.height = y\n",
        "  def area(self):\n",
        "    return self.width*self.height\n",
        "  \n",
        "rect = Rectangle()\n",
        "rect.set_values(8,6.375)\n",
        "print(\"area: {}\".format(rect.area()))"
      ],
      "execution_count": 37,
      "outputs": [
        {
          "output_type": "stream",
          "text": [
            "area: 51.0\n",
            "\n"
          ],
          "name": "stdout"
        }
      ]
    },
    {
      "metadata": {
        "id": "_Z1FOxZphmkS",
        "colab_type": "code",
        "colab": {
          "base_uri": "https://localhost:8080/",
          "height": 34
        },
        "outputId": "8178efba-c7f7-4ec8-e63e-b003e820a2b6"
      },
      "cell_type": "code",
      "source": [
        "%%Cowboy g++ test.cpp -o test -O\n",
        "\n",
        "#include <iostream>\n",
        "using namespace std;\n",
        "\n",
        "class Rectangle {\n",
        "    float width, height;\n",
        "  public:\n",
        "    void set_values(float,float);\n",
        "    float area() {return width*height;}\n",
        "};\n",
        "\n",
        "void Rectangle::set_values (float x, float y) {\n",
        "  width = x;\n",
        "  height = y;\n",
        "}\n",
        "\n",
        "int main () {\n",
        "  Rectangle rect;\n",
        "  rect.set_values (8,6.375);\n",
        "  cout << \"area: \" << rect.area();\n",
        "  return 0;\n",
        "}"
      ],
      "execution_count": 28,
      "outputs": [
        {
          "output_type": "stream",
          "text": [
            "\n"
          ],
          "name": "stdout"
        }
      ]
    },
    {
      "metadata": {
        "id": "iMrfX03TmzeT",
        "colab_type": "code",
        "colab": {
          "base_uri": "https://localhost:8080/",
          "height": 34
        },
        "outputId": "3fcaa11d-4a2d-4eff-a3cd-3b35e02ab414"
      },
      "cell_type": "code",
      "source": [
        "# g++ only compiles... so you have to run the executable manually \n",
        "!./test"
      ],
      "execution_count": 29,
      "outputs": [
        {
          "output_type": "stream",
          "text": [
            "area: 51"
          ],
          "name": "stdout"
        }
      ]
    },
    {
      "metadata": {
        "id": "Buz2YeRckHKQ",
        "colab_type": "code",
        "colab": {
          "base_uri": "https://localhost:8080/",
          "height": 50
        },
        "outputId": "3bcc01b2-35d6-48f9-caf7-bf49fdb1e9c5"
      },
      "cell_type": "code",
      "source": [
        "%%Cowboy node test.js\n",
        "\n",
        "class Rectangle {\n",
        "  constructor() {\n",
        "    this.width = 0.\n",
        "    this.height = 0.        \n",
        "  }\n",
        "  set_values(x,y) {\n",
        "    this.width = x\n",
        "    this.height = y\n",
        "  }\n",
        "  area() {\n",
        "    return this.width*this.height\n",
        "  }\n",
        "}\n",
        "\n",
        "const rect = new Rectangle()\n",
        "rect.set_values(8.,6.375)\n",
        "console.log(\"area:\",rect.area())\n"
      ],
      "execution_count": 33,
      "outputs": [
        {
          "output_type": "stream",
          "text": [
            "area: 51\n",
            "\n"
          ],
          "name": "stdout"
        }
      ]
    },
    {
      "metadata": {
        "id": "TsiCtETrvsJv",
        "colab_type": "code",
        "colab": {
          "base_uri": "https://localhost:8080/",
          "height": 34
        },
        "outputId": "8e341a17-001b-4742-a603-81c07635989c"
      },
      "cell_type": "code",
      "source": [
        "# command to list the directory showing the files that were created\n",
        "!ls"
      ],
      "execution_count": 38,
      "outputs": [
        {
          "output_type": "stream",
          "text": [
            "a.out  datalab\ttest  test.cpp\ttest.js  test.py\r\n"
          ],
          "name": "stdout"
        }
      ]
    }
  ]
}